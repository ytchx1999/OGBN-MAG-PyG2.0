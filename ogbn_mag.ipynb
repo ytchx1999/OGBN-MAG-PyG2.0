{
 "cells": [
  {
   "cell_type": "code",
   "execution_count": 21,
   "source": [
    "import torch_geometric\n",
    "import torch\n",
    "from torch_geometric.datasets import OGB_MAG\n",
    "import torch_geometric.transforms as T\n",
    "from torch_geometric.loader import NeighborLoader"
   ],
   "outputs": [],
   "metadata": {}
  },
  {
   "cell_type": "code",
   "execution_count": 22,
   "source": [
    "torch.__version__"
   ],
   "outputs": [
    {
     "output_type": "execute_result",
     "data": {
      "text/plain": [
       "'1.8.2'"
      ]
     },
     "metadata": {},
     "execution_count": 22
    }
   ],
   "metadata": {}
  },
  {
   "cell_type": "code",
   "execution_count": 23,
   "source": [
    "torch_geometric.__version__"
   ],
   "outputs": [
    {
     "output_type": "execute_result",
     "data": {
      "text/plain": [
       "'2.0.1'"
      ]
     },
     "metadata": {},
     "execution_count": 23
    }
   ],
   "metadata": {}
  },
  {
   "cell_type": "code",
   "execution_count": 24,
   "source": [
    "dataset = OGB_MAG(root='./data', preprocess='transe', transform=T.ToUndirected(merge=True))\n",
    "data = dataset[0]\n",
    "print(data)"
   ],
   "outputs": [
    {
     "output_type": "stream",
     "name": "stdout",
     "text": [
      "HeteroData(\n",
      "  \u001b[1mpaper\u001b[0m={\n",
      "    x=[736389, 128],\n",
      "    y=[736389],\n",
      "    train_mask=[736389],\n",
      "    val_mask=[736389],\n",
      "    test_mask=[736389]\n",
      "  },\n",
      "  \u001b[1mauthor\u001b[0m={ x=[1134649, 256] },\n",
      "  \u001b[1mfield_of_study\u001b[0m={ x=[59965, 256] },\n",
      "  \u001b[1minstitution\u001b[0m={ x=[8740, 256] },\n",
      "  \u001b[1m(author, affiliated_with, institution)\u001b[0m={ edge_index=[2, 1043998] },\n",
      "  \u001b[1m(author, writes, paper)\u001b[0m={ edge_index=[2, 7145660] },\n",
      "  \u001b[1m(paper, cites, paper)\u001b[0m={ edge_index=[2, 10792672] },\n",
      "  \u001b[1m(paper, has_topic, field_of_study)\u001b[0m={ edge_index=[2, 7505078] },\n",
      "  \u001b[1m(institution, rev_affiliated_with, author)\u001b[0m={ edge_index=[2, 1043998] },\n",
      "  \u001b[1m(paper, rev_writes, author)\u001b[0m={ edge_index=[2, 7145660] },\n",
      "  \u001b[1m(field_of_study, rev_has_topic, paper)\u001b[0m={ edge_index=[2, 7505078] }\n",
      ")\n"
     ]
    }
   ],
   "metadata": {}
  },
  {
   "cell_type": "code",
   "execution_count": 28,
   "source": [
    "transe_emb = torch.load('./data/mag/raw/mag_transe_emb.pt', map_location='cpu')\n",
    "print(transe_emb['paper'].shape)\n",
    "print(transe_emb['author'].shape)"
   ],
   "outputs": [
    {
     "output_type": "stream",
     "name": "stdout",
     "text": [
      "torch.Size([736389, 256])\n",
      "torch.Size([1134649, 256])\n"
     ]
    }
   ],
   "metadata": {}
  },
  {
   "cell_type": "code",
   "execution_count": 26,
   "source": [
    "data.x_dict['paper'].shape"
   ],
   "outputs": [
    {
     "output_type": "execute_result",
     "data": {
      "text/plain": [
       "torch.Size([736389, 128])"
      ]
     },
     "metadata": {},
     "execution_count": 26
    }
   ],
   "metadata": {}
  },
  {
   "cell_type": "code",
   "execution_count": 27,
   "source": [
    "# x_dict = {key: torch.cat([x, transe_emb[key]], dim=1) for key, x in data.x_dict.items()}\n",
    "# data.x_dict = x_dict\n",
    "data['paper'].x = torch.cat([data['paper'].x, transe_emb['paper']], dim=1)\n",
    "data['author'].x = torch.cat([data['author'].x, transe_emb['author']], dim=1)\n",
    "data['field_of_study'].x = torch.cat([data['field_of_study'].x, transe_emb['field_of_study']], dim=1)\n",
    "data['institution'].x = torch.cat([data['institution'].x, transe_emb['institution']], dim=1)\n",
    "print(data.x_dict['paper'].shape)\n",
    "print(data.x_dict['author'].shape)\n",
    "print(data.x_dict['field_of_study'].shape)\n",
    "print(data.x_dict['institution'].shape)"
   ],
   "outputs": [
    {
     "output_type": "stream",
     "name": "stdout",
     "text": [
      "torch.Size([736389, 384])\n",
      "torch.Size([1134649, 512])\n",
      "torch.Size([59965, 512])\n",
      "torch.Size([8740, 512])\n"
     ]
    }
   ],
   "metadata": {}
  },
  {
   "cell_type": "code",
   "execution_count": 15,
   "source": [
    "data.x_dict = {key: torch.cat([x, transe_emb[key]], dim=1) for key, x in data.x_dict.items()}\n",
    "data.x_dict['paper'].shape"
   ],
   "outputs": [
    {
     "output_type": "execute_result",
     "data": {
      "text/plain": [
       "torch.Size([736389, 128])"
      ]
     },
     "metadata": {},
     "execution_count": 15
    }
   ],
   "metadata": {}
  },
  {
   "cell_type": "code",
   "execution_count": 29,
   "source": [
    "data.metadata()"
   ],
   "outputs": [
    {
     "output_type": "execute_result",
     "data": {
      "text/plain": [
       "(['paper', 'author', 'field_of_study', 'institution'],\n",
       " [('author', 'affiliated_with', 'institution'),\n",
       "  ('author', 'writes', 'paper'),\n",
       "  ('paper', 'cites', 'paper'),\n",
       "  ('paper', 'has_topic', 'field_of_study'),\n",
       "  ('institution', 'rev_affiliated_with', 'author'),\n",
       "  ('paper', 'rev_writes', 'author'),\n",
       "  ('field_of_study', 'rev_has_topic', 'paper')])"
      ]
     },
     "metadata": {},
     "execution_count": 29
    }
   ],
   "metadata": {}
  },
  {
   "cell_type": "code",
   "execution_count": 30,
   "source": [
    "data.x_dict"
   ],
   "outputs": [
    {
     "output_type": "execute_result",
     "data": {
      "text/plain": [
       "{'paper': tensor([[-0.0954,  0.0408, -0.2109,  ...,  0.7162,  0.4707,  0.7670],\n",
       "         [-0.1510, -0.1073, -0.2220,  ...,  0.6170,  0.4240, -0.1924],\n",
       "         [-0.1148, -0.1760, -0.2606,  ...,  0.6009, -0.2398,  0.3472],\n",
       "         ...,\n",
       "         [ 0.0228, -0.0865,  0.0981,  ...,  0.4428, -0.6617,  0.9344],\n",
       "         [-0.2891, -0.2029, -0.1525,  ..., -0.1030, -0.5050,  0.6917],\n",
       "         [-0.0890, -0.0348, -0.2642,  ..., -0.3364, -0.2887, -0.3819]]),\n",
       " 'author': tensor([[ 0.3226,  0.0584, -0.3172,  ..., -0.1393,  0.3022, -0.8178],\n",
       "         [ 0.0438, -0.1213,  0.1804,  ..., -0.3374,  0.4846, -0.4272],\n",
       "         [-0.2300, -0.3192,  0.1979,  ..., -0.1007,  1.3342, -0.4569],\n",
       "         ...,\n",
       "         [-0.5160,  0.1867,  0.2854,  ..., -0.1987, -0.6515,  0.5417],\n",
       "         [-0.3726, -0.1563, -0.1685,  ...,  0.1218,  0.4354, -0.0998],\n",
       "         [-0.7412,  0.5156,  0.0240,  ..., -0.2002, -0.2625, -0.1643]]),\n",
       " 'field_of_study': tensor([[-0.5958,  0.4260,  0.0320,  ..., -0.2224,  0.2888, -0.3681],\n",
       "         [-0.6097,  0.6163, -0.3129,  ..., -0.2189,  0.5175, -0.1438],\n",
       "         [-1.5648, -0.4547, -0.3500,  ..., -0.5007,  0.2203,  0.2191],\n",
       "         ...,\n",
       "         [-0.6005,  0.1640, -0.3107,  ...,  0.1179, -0.3564,  0.1598],\n",
       "         [-0.2118, -0.3852, -0.3192,  ..., -0.3364, -0.0273,  0.7379],\n",
       "         [-0.1771, -0.3896,  0.1770,  ..., -0.1992,  0.1229,  0.2102]]),\n",
       " 'institution': tensor([[-0.1635, -0.1567, -0.0987,  ..., -0.3045, -0.4584,  0.7168],\n",
       "         [ 0.0821, -0.3296, -0.8362,  ...,  0.3981, -0.1279,  0.0892],\n",
       "         [-0.1024, -0.8186, -0.5991,  ..., -0.2871, -0.3805,  0.1945],\n",
       "         ...,\n",
       "         [ 0.6412, -0.1199, -0.6396,  ...,  0.3051, -0.7531,  0.1468],\n",
       "         [ 0.4917,  0.2029, -0.8117,  ...,  1.3380, -0.4822,  0.4772],\n",
       "         [ 0.1683, -0.2391, -0.7174,  ...,  0.3258,  0.0738,  0.7816]])}"
      ]
     },
     "metadata": {},
     "execution_count": 30
    }
   ],
   "metadata": {}
  },
  {
   "cell_type": "code",
   "execution_count": 31,
   "source": [
    "data.edge_index_dict"
   ],
   "outputs": [
    {
     "output_type": "execute_result",
     "data": {
      "text/plain": [
       "{('author',\n",
       "  'affiliated_with',\n",
       "  'institution'): tensor([[      0,       1,       2,  ..., 1134645, 1134647, 1134648],\n",
       "         [    845,     996,    3197,  ...,    5189,    4668,    4668]]),\n",
       " ('author',\n",
       "  'writes',\n",
       "  'paper'): tensor([[      0,       0,       0,  ..., 1134647, 1134648, 1134648],\n",
       "         [  19703,  289285,  311768,  ...,  657395,  671118,  719594]]),\n",
       " ('paper',\n",
       "  'cites',\n",
       "  'paper'): tensor([[     0,      0,      0,  ..., 736388, 736388, 736388],\n",
       "         [    88,  27449, 121051,  ..., 707740, 732008, 732389]]),\n",
       " ('paper',\n",
       "  'has_topic',\n",
       "  'field_of_study'): tensor([[     0,      0,      0,  ..., 736388, 736388, 736388],\n",
       "         [   145,   2215,   3205,  ...,  21458,  22283,  31934]]),\n",
       " ('institution',\n",
       "  'rev_affiliated_with',\n",
       "  'author'): tensor([[    845,     996,    3197,  ...,    5189,    4668,    4668],\n",
       "         [      0,       1,       2,  ..., 1134645, 1134647, 1134648]]),\n",
       " ('paper',\n",
       "  'rev_writes',\n",
       "  'author'): tensor([[  19703,  289285,  311768,  ...,  657395,  671118,  719594],\n",
       "         [      0,       0,       0,  ..., 1134647, 1134648, 1134648]]),\n",
       " ('field_of_study',\n",
       "  'rev_has_topic',\n",
       "  'paper'): tensor([[   145,   2215,   3205,  ...,  21458,  22283,  31934],\n",
       "         [     0,      0,      0,  ..., 736388, 736388, 736388]])}"
      ]
     },
     "metadata": {},
     "execution_count": 31
    }
   ],
   "metadata": {}
  },
  {
   "cell_type": "code",
   "execution_count": 32,
   "source": [
    "train_loader = NeighborLoader(data, num_neighbors=[15, 15], batch_size=128, input_nodes=('paper', data['paper'].train_mask), shuffle=True)"
   ],
   "outputs": [],
   "metadata": {}
  },
  {
   "cell_type": "code",
   "execution_count": 33,
   "source": [
    "print(train_loader)\n",
    "batch = next(iter(train_loader))\n",
    "print(batch)"
   ],
   "outputs": [
    {
     "output_type": "stream",
     "name": "stdout",
     "text": [
      "NeighborLoader()\n",
      "HeteroData(\n",
      "  \u001b[1mpaper\u001b[0m={\n",
      "    x=[26117, 384],\n",
      "    y=[26117],\n",
      "    train_mask=[26117],\n",
      "    val_mask=[26117],\n",
      "    test_mask=[26117],\n",
      "    batch_size=128\n",
      "  },\n",
      "  \u001b[1mauthor\u001b[0m={ x=[4997, 512] },\n",
      "  \u001b[1mfield_of_study\u001b[0m={ x=[3319, 512] },\n",
      "  \u001b[1minstitution\u001b[0m={ x=[369, 512] },\n",
      "  \u001b[1m(author, affiliated_with, institution)\u001b[0m={ edge_index=[2, 0] },\n",
      "  \u001b[1m(author, writes, paper)\u001b[0m={ edge_index=[2, 6525] },\n",
      "  \u001b[1m(paper, cites, paper)\u001b[0m={ edge_index=[2, 15905] },\n",
      "  \u001b[1m(paper, has_topic, field_of_study)\u001b[0m={ edge_index=[2, 11942] },\n",
      "  \u001b[1m(institution, rev_affiliated_with, author)\u001b[0m={ edge_index=[2, 875] },\n",
      "  \u001b[1m(paper, rev_writes, author)\u001b[0m={ edge_index=[2, 5405] },\n",
      "  \u001b[1m(field_of_study, rev_has_topic, paper)\u001b[0m={ edge_index=[2, 13461] }\n",
      ")\n"
     ]
    }
   ],
   "metadata": {}
  },
  {
   "cell_type": "code",
   "execution_count": 39,
   "source": [
    "from torch_geometric.nn import TransformerConv, GCNConv, GATConv, SAGEConv, to_hetero, Linear\n",
    "import torch.nn as nn\n",
    "import torch.nn.functional as F "
   ],
   "outputs": [],
   "metadata": {}
  },
  {
   "cell_type": "code",
   "execution_count": 40,
   "source": [
    "class Net1(torch.nn.Module):\n",
    "    def __init__(self, hidden_dim, num_classes, num_layers=2) -> None:\n",
    "        super().__init__()\n",
    "\n",
    "        self.hidden_dim = hidden_dim\n",
    "        self.num_classes = num_classes\n",
    "        self.num_layers = num_layers\n",
    "\n",
    "        self.convs = nn.ModuleList()\n",
    "        self.lins = nn.ModuleList()\n",
    "        self.bns = nn.ModuleList()\n",
    "\n",
    "        for i in range(self.num_layers):\n",
    "            self.convs.append(GATConv((-1, -1), hidden_dim))\n",
    "            self.lins.append(Linear(-1, hidden_dim))\n",
    "            self.bns.append(nn.BatchNorm1d(hidden_dim))\n",
    "\n",
    "        # self.dropout = torch.nn.Dropout()\n",
    "        self.fc_out = Linear(-1, num_classes)\n",
    "\n",
    "    def forward(self, x, edge_index):\n",
    "        for i in range(self.num_layers):\n",
    "            x = self.convs[i](x, edge_index) + self.lins[i](x)\n",
    "            x = self.bns[i](x)\n",
    "            x = F.relu(x)\n",
    "            x = F.dropout(x, p=0.5, training=self.training)\n",
    "        x = self.fc_out(x)\n",
    "        return x"
   ],
   "outputs": [],
   "metadata": {}
  },
  {
   "cell_type": "code",
   "execution_count": 42,
   "source": [
    "device = torch.device('cuda:2' if torch.cuda.is_available() else 'cpu')\n",
    "print(device)\n",
    "model = Net1(hidden_dim=64, num_classes=dataset.num_classes, num_layers=2)\n",
    "model = to_hetero(model, data.metadata(), aggr='sum').to(device)\n",
    "print(model)"
   ],
   "outputs": [
    {
     "output_type": "stream",
     "name": "stdout",
     "text": [
      "cuda:2\n",
      "GraphModule(\n",
      "  (convs): ModuleList(\n",
      "    (0): ModuleDict(\n",
      "      (author__affiliated_with__institution): GATConv((-1, -1), 64, heads=1)\n",
      "      (author__writes__paper): GATConv((-1, -1), 64, heads=1)\n",
      "      (paper__cites__paper): GATConv((-1, -1), 64, heads=1)\n",
      "      (paper__has_topic__field_of_study): GATConv((-1, -1), 64, heads=1)\n",
      "      (institution__rev_affiliated_with__author): GATConv((-1, -1), 64, heads=1)\n",
      "      (paper__rev_writes__author): GATConv((-1, -1), 64, heads=1)\n",
      "      (field_of_study__rev_has_topic__paper): GATConv((-1, -1), 64, heads=1)\n",
      "    )\n",
      "    (1): ModuleDict(\n",
      "      (author__affiliated_with__institution): GATConv((-1, -1), 64, heads=1)\n",
      "      (author__writes__paper): GATConv((-1, -1), 64, heads=1)\n",
      "      (paper__cites__paper): GATConv((-1, -1), 64, heads=1)\n",
      "      (paper__has_topic__field_of_study): GATConv((-1, -1), 64, heads=1)\n",
      "      (institution__rev_affiliated_with__author): GATConv((-1, -1), 64, heads=1)\n",
      "      (paper__rev_writes__author): GATConv((-1, -1), 64, heads=1)\n",
      "      (field_of_study__rev_has_topic__paper): GATConv((-1, -1), 64, heads=1)\n",
      "    )\n",
      "  )\n",
      "  (lins): ModuleList(\n",
      "    (0): ModuleDict(\n",
      "      (paper): Linear(-1, 64, bias=True)\n",
      "      (author): Linear(-1, 64, bias=True)\n",
      "      (field_of_study): Linear(-1, 64, bias=True)\n",
      "      (institution): Linear(-1, 64, bias=True)\n",
      "    )\n",
      "    (1): ModuleDict(\n",
      "      (paper): Linear(-1, 64, bias=True)\n",
      "      (author): Linear(-1, 64, bias=True)\n",
      "      (field_of_study): Linear(-1, 64, bias=True)\n",
      "      (institution): Linear(-1, 64, bias=True)\n",
      "    )\n",
      "  )\n",
      "  (bns): ModuleList(\n",
      "    (0): ModuleDict(\n",
      "      (paper): BatchNorm1d(64, eps=1e-05, momentum=0.1, affine=True, track_running_stats=True)\n",
      "      (author): BatchNorm1d(64, eps=1e-05, momentum=0.1, affine=True, track_running_stats=True)\n",
      "      (field_of_study): BatchNorm1d(64, eps=1e-05, momentum=0.1, affine=True, track_running_stats=True)\n",
      "      (institution): BatchNorm1d(64, eps=1e-05, momentum=0.1, affine=True, track_running_stats=True)\n",
      "    )\n",
      "    (1): ModuleDict(\n",
      "      (paper): BatchNorm1d(64, eps=1e-05, momentum=0.1, affine=True, track_running_stats=True)\n",
      "      (author): BatchNorm1d(64, eps=1e-05, momentum=0.1, affine=True, track_running_stats=True)\n",
      "      (field_of_study): BatchNorm1d(64, eps=1e-05, momentum=0.1, affine=True, track_running_stats=True)\n",
      "      (institution): BatchNorm1d(64, eps=1e-05, momentum=0.1, affine=True, track_running_stats=True)\n",
      "    )\n",
      "  )\n",
      "  (fc_out): ModuleDict(\n",
      "    (paper): Linear(-1, 349, bias=True)\n",
      "    (author): Linear(-1, 349, bias=True)\n",
      "    (field_of_study): Linear(-1, 349, bias=True)\n",
      "    (institution): Linear(-1, 349, bias=True)\n",
      "  )\n",
      ")\n",
      "import torch\n",
      "def forward(self, x, edge_index):\n",
      "    x__paper = x.get('paper')\n",
      "    x__author = x.get('author')\n",
      "    x__field_of_study = x.get('field_of_study')\n",
      "    x__institution = x.get('institution');  x = None\n",
      "    edge_index__author__affiliated_with__institution = edge_index.get(('author', 'affiliated_with', 'institution'))\n",
      "    edge_index__author__writes__paper = edge_index.get(('author', 'writes', 'paper'))\n",
      "    edge_index__paper__cites__paper = edge_index.get(('paper', 'cites', 'paper'))\n",
      "    edge_index__paper__has_topic__field_of_study = edge_index.get(('paper', 'has_topic', 'field_of_study'))\n",
      "    edge_index__institution__rev_affiliated_with__author = edge_index.get(('institution', 'rev_affiliated_with', 'author'))\n",
      "    edge_index__paper__rev_writes__author = edge_index.get(('paper', 'rev_writes', 'author'))\n",
      "    edge_index__field_of_study__rev_has_topic__paper = edge_index.get(('field_of_study', 'rev_has_topic', 'paper'));  edge_index = None\n",
      "    convs_0__institution = getattr(self.convs, \"0\").author__affiliated_with__institution((x__author, x__institution), edge_index__author__affiliated_with__institution)\n",
      "    convs_0__paper1 = getattr(self.convs, \"0\").author__writes__paper((x__author, x__paper), edge_index__author__writes__paper)\n",
      "    convs_0__paper2 = getattr(self.convs, \"0\").paper__cites__paper((x__paper, x__paper), edge_index__paper__cites__paper)\n",
      "    convs_0__field_of_study = getattr(self.convs, \"0\").paper__has_topic__field_of_study((x__paper, x__field_of_study), edge_index__paper__has_topic__field_of_study)\n",
      "    convs_0__author1 = getattr(self.convs, \"0\").institution__rev_affiliated_with__author((x__institution, x__author), edge_index__institution__rev_affiliated_with__author)\n",
      "    convs_0__author2 = getattr(self.convs, \"0\").paper__rev_writes__author((x__paper, x__author), edge_index__paper__rev_writes__author)\n",
      "    convs_0__paper3 = getattr(self.convs, \"0\").field_of_study__rev_has_topic__paper((x__field_of_study, x__paper), edge_index__field_of_study__rev_has_topic__paper)\n",
      "    convs_0__paper4 = torch.add(convs_0__paper1, convs_0__paper2);  convs_0__paper1 = convs_0__paper2 = None\n",
      "    convs_0__paper = torch.add(convs_0__paper3, convs_0__paper4);  convs_0__paper3 = convs_0__paper4 = None\n",
      "    convs_0__author = torch.add(convs_0__author1, convs_0__author2);  convs_0__author1 = convs_0__author2 = None\n",
      "    lins_0__paper = getattr(self.lins, \"0\").paper(x__paper);  x__paper = None\n",
      "    lins_0__author = getattr(self.lins, \"0\").author(x__author);  x__author = None\n",
      "    lins_0__field_of_study = getattr(self.lins, \"0\").field_of_study(x__field_of_study);  x__field_of_study = None\n",
      "    lins_0__institution = getattr(self.lins, \"0\").institution(x__institution);  x__institution = None\n",
      "    add_1__paper = convs_0__paper + lins_0__paper;  convs_0__paper = lins_0__paper = None\n",
      "    add_1__author = convs_0__author + lins_0__author;  convs_0__author = lins_0__author = None\n",
      "    add_1__field_of_study = convs_0__field_of_study + lins_0__field_of_study;  convs_0__field_of_study = lins_0__field_of_study = None\n",
      "    add_1__institution = convs_0__institution + lins_0__institution;  convs_0__institution = lins_0__institution = None\n",
      "    bns_0__paper = getattr(self.bns, \"0\").paper(add_1__paper);  add_1__paper = None\n",
      "    bns_0__author = getattr(self.bns, \"0\").author(add_1__author);  add_1__author = None\n",
      "    bns_0__field_of_study = getattr(self.bns, \"0\").field_of_study(add_1__field_of_study);  add_1__field_of_study = None\n",
      "    bns_0__institution = getattr(self.bns, \"0\").institution(add_1__institution);  add_1__institution = None\n",
      "    relu_1__paper = torch.nn.functional.relu(bns_0__paper, inplace = False);  bns_0__paper = None\n",
      "    relu_1__author = torch.nn.functional.relu(bns_0__author, inplace = False);  bns_0__author = None\n",
      "    relu_1__field_of_study = torch.nn.functional.relu(bns_0__field_of_study, inplace = False);  bns_0__field_of_study = None\n",
      "    relu_1__institution = torch.nn.functional.relu(bns_0__institution, inplace = False);  bns_0__institution = None\n",
      "    dropout_1__paper = torch.nn.functional.dropout(relu_1__paper, p = 0.5, training = True, inplace = False);  relu_1__paper = None\n",
      "    dropout_1__author = torch.nn.functional.dropout(relu_1__author, p = 0.5, training = True, inplace = False);  relu_1__author = None\n",
      "    dropout_1__field_of_study = torch.nn.functional.dropout(relu_1__field_of_study, p = 0.5, training = True, inplace = False);  relu_1__field_of_study = None\n",
      "    dropout_1__institution = torch.nn.functional.dropout(relu_1__institution, p = 0.5, training = True, inplace = False);  relu_1__institution = None\n",
      "    convs_1__institution = getattr(self.convs, \"1\").author__affiliated_with__institution((dropout_1__author, dropout_1__institution), edge_index__author__affiliated_with__institution);  edge_index__author__affiliated_with__institution = None\n",
      "    convs_1__paper1 = getattr(self.convs, \"1\").author__writes__paper((dropout_1__author, dropout_1__paper), edge_index__author__writes__paper);  edge_index__author__writes__paper = None\n",
      "    convs_1__paper2 = getattr(self.convs, \"1\").paper__cites__paper((dropout_1__paper, dropout_1__paper), edge_index__paper__cites__paper);  edge_index__paper__cites__paper = None\n",
      "    convs_1__field_of_study = getattr(self.convs, \"1\").paper__has_topic__field_of_study((dropout_1__paper, dropout_1__field_of_study), edge_index__paper__has_topic__field_of_study);  edge_index__paper__has_topic__field_of_study = None\n",
      "    convs_1__author1 = getattr(self.convs, \"1\").institution__rev_affiliated_with__author((dropout_1__institution, dropout_1__author), edge_index__institution__rev_affiliated_with__author);  edge_index__institution__rev_affiliated_with__author = None\n",
      "    convs_1__author2 = getattr(self.convs, \"1\").paper__rev_writes__author((dropout_1__paper, dropout_1__author), edge_index__paper__rev_writes__author);  edge_index__paper__rev_writes__author = None\n",
      "    convs_1__paper3 = getattr(self.convs, \"1\").field_of_study__rev_has_topic__paper((dropout_1__field_of_study, dropout_1__paper), edge_index__field_of_study__rev_has_topic__paper);  edge_index__field_of_study__rev_has_topic__paper = None\n",
      "    convs_1__paper4 = torch.add(convs_1__paper1, convs_1__paper2);  convs_1__paper1 = convs_1__paper2 = None\n",
      "    convs_1__paper = torch.add(convs_1__paper3, convs_1__paper4);  convs_1__paper3 = convs_1__paper4 = None\n",
      "    convs_1__author = torch.add(convs_1__author1, convs_1__author2);  convs_1__author1 = convs_1__author2 = None\n",
      "    lins_1__paper = getattr(self.lins, \"1\").paper(dropout_1__paper);  dropout_1__paper = None\n",
      "    lins_1__author = getattr(self.lins, \"1\").author(dropout_1__author);  dropout_1__author = None\n",
      "    lins_1__field_of_study = getattr(self.lins, \"1\").field_of_study(dropout_1__field_of_study);  dropout_1__field_of_study = None\n",
      "    lins_1__institution = getattr(self.lins, \"1\").institution(dropout_1__institution);  dropout_1__institution = None\n",
      "    add_2__paper = convs_1__paper + lins_1__paper;  convs_1__paper = lins_1__paper = None\n",
      "    add_2__author = convs_1__author + lins_1__author;  convs_1__author = lins_1__author = None\n",
      "    add_2__field_of_study = convs_1__field_of_study + lins_1__field_of_study;  convs_1__field_of_study = lins_1__field_of_study = None\n",
      "    add_2__institution = convs_1__institution + lins_1__institution;  convs_1__institution = lins_1__institution = None\n",
      "    bns_1__paper = getattr(self.bns, \"1\").paper(add_2__paper);  add_2__paper = None\n",
      "    bns_1__author = getattr(self.bns, \"1\").author(add_2__author);  add_2__author = None\n",
      "    bns_1__field_of_study = getattr(self.bns, \"1\").field_of_study(add_2__field_of_study);  add_2__field_of_study = None\n",
      "    bns_1__institution = getattr(self.bns, \"1\").institution(add_2__institution);  add_2__institution = None\n",
      "    relu_2__paper = torch.nn.functional.relu(bns_1__paper, inplace = False);  bns_1__paper = None\n",
      "    relu_2__author = torch.nn.functional.relu(bns_1__author, inplace = False);  bns_1__author = None\n",
      "    relu_2__field_of_study = torch.nn.functional.relu(bns_1__field_of_study, inplace = False);  bns_1__field_of_study = None\n",
      "    relu_2__institution = torch.nn.functional.relu(bns_1__institution, inplace = False);  bns_1__institution = None\n",
      "    dropout_2__paper = torch.nn.functional.dropout(relu_2__paper, p = 0.5, training = True, inplace = False);  relu_2__paper = None\n",
      "    dropout_2__author = torch.nn.functional.dropout(relu_2__author, p = 0.5, training = True, inplace = False);  relu_2__author = None\n",
      "    dropout_2__field_of_study = torch.nn.functional.dropout(relu_2__field_of_study, p = 0.5, training = True, inplace = False);  relu_2__field_of_study = None\n",
      "    dropout_2__institution = torch.nn.functional.dropout(relu_2__institution, p = 0.5, training = True, inplace = False);  relu_2__institution = None\n",
      "    fc_out__paper = self.fc_out.paper(dropout_2__paper);  dropout_2__paper = None\n",
      "    fc_out__author = self.fc_out.author(dropout_2__author);  dropout_2__author = None\n",
      "    fc_out__field_of_study = self.fc_out.field_of_study(dropout_2__field_of_study);  dropout_2__field_of_study = None\n",
      "    fc_out__institution = self.fc_out.institution(dropout_2__institution);  dropout_2__institution = None\n",
      "    return {'paper': fc_out__paper, 'author': fc_out__author, 'field_of_study': fc_out__field_of_study, 'institution': fc_out__institution}\n",
      "    \n"
     ]
    }
   ],
   "metadata": {}
  },
  {
   "cell_type": "code",
   "execution_count": 43,
   "source": [
    "@torch.no_grad()\n",
    "def init_params():\n",
    "    # Initialize lazy parameters via forwarding a single batch to the model:\n",
    "    batch = next(iter(train_loader))\n",
    "    batch = batch.to(device)\n",
    "    model(batch.x_dict, batch.edge_index_dict)"
   ],
   "outputs": [],
   "metadata": {}
  },
  {
   "cell_type": "code",
   "execution_count": 44,
   "source": [
    "import torch"
   ],
   "outputs": [],
   "metadata": {}
  },
  {
   "cell_type": "code",
   "execution_count": 46,
   "source": [
    "emb = torch.load('./data/mag/raw/mag_metapath2vec_emb.pt', map_location='cpu')\n",
    "print(emb['paper'].shape)\n",
    "print(emb['author'].shape)"
   ],
   "outputs": [
    {
     "output_type": "stream",
     "name": "stdout",
     "text": [
      "torch.Size([736389, 128])\n",
      "torch.Size([1134649, 128])\n"
     ]
    }
   ],
   "metadata": {}
  },
  {
   "cell_type": "code",
   "execution_count": 7,
   "source": [
    "emb['author'].shape"
   ],
   "outputs": [
    {
     "output_type": "execute_result",
     "data": {
      "text/plain": [
       "torch.Size([1134649, 128])"
      ]
     },
     "metadata": {},
     "execution_count": 7
    }
   ],
   "metadata": {}
  },
  {
   "cell_type": "code",
   "execution_count": 9,
   "source": [
    "d1 = {'1': torch.rand((2, 3)), '2': torch.rand((4, 3))}\n",
    "d2 = {'1': torch.rand((2, 3)), '2': torch.rand((4, 3))}\n",
    "{key: x + d2[key] for key, x in d1.items()}"
   ],
   "outputs": [
    {
     "output_type": "execute_result",
     "data": {
      "text/plain": [
       "{'1': tensor([[1.8597, 0.6279, 1.0817],\n",
       "         [0.5914, 0.7982, 0.2904]]),\n",
       " '2': tensor([[0.7516, 1.5576, 1.0026],\n",
       "         [0.9337, 1.3418, 1.0792],\n",
       "         [0.8797, 0.9528, 0.7635],\n",
       "         [1.3031, 0.7651, 1.3356]])}"
      ]
     },
     "metadata": {},
     "execution_count": 9
    }
   ],
   "metadata": {}
  },
  {
   "cell_type": "code",
   "execution_count": null,
   "source": [],
   "outputs": [],
   "metadata": {}
  }
 ],
 "metadata": {
  "orig_nbformat": 4,
  "language_info": {
   "name": "python",
   "version": "3.7.11",
   "mimetype": "text/x-python",
   "codemirror_mode": {
    "name": "ipython",
    "version": 3
   },
   "pygments_lexer": "ipython3",
   "nbconvert_exporter": "python",
   "file_extension": ".py"
  },
  "kernelspec": {
   "name": "python3",
   "display_name": "Python 3.7.11 64-bit ('env_pyg2': conda)"
  },
  "interpreter": {
   "hash": "34c1a40bc9577173535f253d85c3cd5337da8e700227898ef43eef37da3945ea"
  }
 },
 "nbformat": 4,
 "nbformat_minor": 2
}